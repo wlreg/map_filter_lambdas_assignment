{
  "cells": [
    {
      "cell_type": "markdown",
      "metadata": {
        "id": "XKSlGQXNP3GB"
      },
      "source": [
        "# Map, Filter, Reduce, Lambda & Recursion"
      ]
    },
    {
      "cell_type": "markdown",
      "metadata": {
        "id": "8JziL0tWP3GD"
      },
      "source": [
        "## Tasks Today:\n",
        "\n",
        "1) <b>Lambda Functions</b> <br>\n",
        " &nbsp;&nbsp;&nbsp;&nbsp; a) Syntax <br>\n",
        " &nbsp;&nbsp;&nbsp;&nbsp; b) Saving to a Variable <br>\n",
        " &nbsp;&nbsp;&nbsp;&nbsp; c) Multiple Inputs <br>\n",
        " &nbsp;&nbsp;&nbsp;&nbsp; d) Passing a Lambda into a Function <br>\n",
        " &nbsp;&nbsp;&nbsp;&nbsp; e) Returning a Lambda from a Function <br>\n",
        " &nbsp;&nbsp;&nbsp;&nbsp; f) In-Class Exercise #1 <br>\n",
        "2) <b>Map</b> <br>\n",
        " &nbsp;&nbsp;&nbsp;&nbsp; a) Syntax <br>\n",
        " &nbsp;&nbsp;&nbsp;&nbsp; b) Using Lambda's with Map <br>\n",
        " &nbsp;&nbsp;&nbsp;&nbsp; c) In-Class Exercise #2 <br>\n",
        "3) <b>Filter</b> <br>\n",
        " &nbsp;&nbsp;&nbsp;&nbsp; a) Syntax <br>\n",
        " &nbsp;&nbsp;&nbsp;&nbsp; b) Using Lambda's with Filter <br>\n",
        " &nbsp;&nbsp;&nbsp;&nbsp; c) In-Class Exercise #3 <br>\n",
        "4) <b>Reduce</b> <br>\n",
        " &nbsp;&nbsp;&nbsp;&nbsp; a) Syntax <br>\n",
        " &nbsp;&nbsp;&nbsp;&nbsp; b) Using Lambda's with Reduce <br>\n",
        " &nbsp;&nbsp;&nbsp;&nbsp; c) In-Class Exercise #4 <br>\n",
        "5) <b>Recursion</b> <br>\n",
        " &nbsp;&nbsp;&nbsp;&nbsp; a) Implementing a Base <br>\n",
        " &nbsp;&nbsp;&nbsp;&nbsp; b) Writing a Factorial Function <br>\n",
        " &nbsp;&nbsp;&nbsp;&nbsp; c) In-Class Exercise #5 <br>\n",
        "6) <b>Generators & Iterators</b> <br>\n",
        " &nbsp;&nbsp;&nbsp;&nbsp; a) Yield Keyword <br>\n",
        " &nbsp;&nbsp;&nbsp;&nbsp; b) Inifinite Generator <br>\n",
        " &nbsp;&nbsp;&nbsp;&nbsp; c) In-Class Exercise #6 <br>\n",
        "7) <b>Exercises</b> <br>\n",
        " &nbsp;&nbsp;&nbsp;&nbsp; a) Exercise #1 - Filtering Empty Strings <br>\n",
        " &nbsp;&nbsp;&nbsp;&nbsp; b) Exercise #2 - Sorting with Last Name <br>\n",
        " &nbsp;&nbsp;&nbsp;&nbsp; c) Exercise #3 - Conversion to Farhenheit <br>\n",
        " &nbsp;&nbsp;&nbsp;&nbsp; d) Exercise #4 - Fibonacci Sequence <br>"
      ]
    },
    {
      "cell_type": "markdown",
      "metadata": {
        "id": "1GmUFX4FP3GE"
      },
      "source": [
        "## Lambda Functions <br>\n",
        "<p>Lambda functions... or \"Anonymous Functions\" are referring to inline functions with no name. The keyword lambda denotes the no name function, and executes within a single line. Without saving it to a variable; however, it is not able to be used, unless passed in either as a paramater or within list comprehension.<br>Written as \"(keyword lambda) (one or more inputs) (colon) (function to be executed)\"</p>"
      ]
    },
    {
      "cell_type": "markdown",
      "metadata": {
        "id": "nfDoKpz5P3GE"
      },
      "source": [
        "#### Syntax"
      ]
    },
    {
      "cell_type": "code",
      "execution_count": 11,
      "metadata": {
        "colab": {
          "base_uri": "https://localhost:8080/"
        },
        "id": "w_NRogfGP3GF",
        "outputId": "4cf254c6-d788-4100-d870-34e554fe605a"
      },
      "outputs": [
        {
          "output_type": "stream",
          "name": "stdout",
          "text": [
            "6\n",
            "9\n"
          ]
        }
      ],
      "source": [
        "def addTwo(x):\n",
        "  return x + 2\n",
        "\n",
        "print(addTwo(4))\n",
        "\n",
        "# Lambda Function syntax\n",
        "# ((lambda 'one or more inputs' : 'function to execute') ('value to pass through))\n",
        "a_var = 7\n",
        "print((lambda x: x + 2)(a_var))"
      ]
    },
    {
      "cell_type": "markdown",
      "metadata": {
        "id": "ngzrHUKiP3GG"
      },
      "source": [
        "#### Saving to a Variable"
      ]
    },
    {
      "cell_type": "code",
      "execution_count": null,
      "metadata": {
        "colab": {
          "base_uri": "https://localhost:8080/"
        },
        "id": "arqhaoNkP3GG",
        "outputId": "ee7fe57a-67f1-41de-9d8b-9a0baa17e385"
      },
      "outputs": [
        {
          "output_type": "execute_result",
          "data": {
            "text/plain": [
              "6"
            ]
          },
          "metadata": {},
          "execution_count": 8
        }
      ],
      "source": [
        "f_test = lambda x: x+2\n",
        "f_test(4)"
      ]
    },
    {
      "cell_type": "markdown",
      "metadata": {
        "id": "RGYXwKoUP3GH"
      },
      "source": [
        "#### Multiple Inputs"
      ]
    },
    {
      "cell_type": "code",
      "execution_count": null,
      "metadata": {
        "colab": {
          "base_uri": "https://localhost:8080/"
        },
        "id": "cEn_L_2DP3GH",
        "outputId": "51226677-29fc-400c-ba0e-7b812a55537a"
      },
      "outputs": [
        {
          "output_type": "stream",
          "name": "stdout",
          "text": [
            "120\n",
            "120\n"
          ]
        }
      ],
      "source": [
        "print((lambda x,y,z: x * y * z)(3,5,8))\n",
        "\n",
        "x_test = lambda x,y,z: x * y * z\n",
        "print(x_test(3,5,8))"
      ]
    },
    {
      "cell_type": "markdown",
      "metadata": {
        "id": "-OAsph1fP3GI"
      },
      "source": [
        "#### Passing a Lambda into a Function"
      ]
    },
    {
      "cell_type": "code",
      "execution_count": null,
      "metadata": {
        "colab": {
          "base_uri": "https://localhost:8080/"
        },
        "id": "XwMPGRF7P3GI",
        "outputId": "8250dda2-b320-433f-afef-222e6d269c15"
      },
      "outputs": [
        {
          "output_type": "execute_result",
          "data": {
            "text/plain": [
              "16"
            ]
          },
          "metadata": {},
          "execution_count": 10
        }
      ],
      "source": [
        "def multiply(f, num):\n",
        "    \"\"\"f expects a lambda function\n",
        "       num expects a number\n",
        "    \"\"\"\n",
        "    return f(num)\n",
        "multiply(lambda x: x * x, 4)"
      ]
    },
    {
      "cell_type": "markdown",
      "metadata": {
        "id": "KrHxEEZnP3GI"
      },
      "source": [
        "#### Returning a Lambda from a Function"
      ]
    },
    {
      "cell_type": "code",
      "execution_count": null,
      "metadata": {
        "colab": {
          "base_uri": "https://localhost:8080/"
        },
        "id": "f_nTQ_aUP3GJ",
        "outputId": "5c12ded6-2d7b-4379-ae4e-764994dd5f40"
      },
      "outputs": [
        {
          "output_type": "stream",
          "name": "stdout",
          "text": [
            "<function returnFunc.<locals>.multiply at 0x7f7295cd9c20>\n",
            "8\n",
            "19\n"
          ]
        }
      ],
      "source": [
        "def multiply_test(num):\n",
        "    return num * 4\n",
        "\n",
        "\n",
        "def returnFunc():\n",
        "    test = 4\n",
        "    def multiply(num):\n",
        "        return num * 2\n",
        "    return multiply \n",
        "\n",
        "\n",
        "f_return = returnFunc()\n",
        "print(returnFunc())\n",
        "print(f_return(4))\n",
        "\n",
        "#Lambda function return from a regular function\n",
        "def returnLam(b, c):\n",
        "  return lambda x, a: x + a + b + c\n",
        "r_lamb = returnLam(4,5)\n",
        "print(r_lamb(5,5))\n",
        "# ^^ 4 arguments need to be passed in, two for function and two for lambda statement"
      ]
    },
    {
      "cell_type": "markdown",
      "metadata": {
        "id": "6-fJBuw0P3GJ"
      },
      "source": [
        "#### If Statements within Lambdas"
      ]
    },
    {
      "cell_type": "code",
      "execution_count": null,
      "metadata": {
        "colab": {
          "base_uri": "https://localhost:8080/"
        },
        "id": "cMBGSWwCP3GJ",
        "outputId": "6bb22053-bbb5-430e-99ba-b6845f1a1512"
      },
      "outputs": [
        {
          "output_type": "stream",
          "name": "stdout",
          "text": [
            "10\n",
            "22\n"
          ]
        }
      ],
      "source": [
        "# Lambda x: True if (condition) else False\n",
        "f_condition = lambda num: num * 2 if num > 10 else num +2\n",
        "\n",
        "print(f_condition(8))\n",
        "print(f_condition(11))"
      ]
    },
    {
      "cell_type": "markdown",
      "metadata": {
        "id": "myzr2DyrP3GK"
      },
      "source": [
        "#### In-Class Exercise #1 <br>\n",
        "<p>Write an anonymous function that cubes the arguments passed in and assign the anonymous function to a variable 'f'.</p>"
      ]
    },
    {
      "cell_type": "code",
      "execution_count": 13,
      "metadata": {
        "colab": {
          "base_uri": "https://localhost:8080/"
        },
        "id": "BqRuFzMuP3GK",
        "outputId": "4a05969f-52d7-406d-da6b-fd9d7c3d643a"
      },
      "outputs": [
        {
          "output_type": "execute_result",
          "data": {
            "text/plain": [
              "216"
            ]
          },
          "metadata": {},
          "execution_count": 13
        }
      ],
      "source": [
        "f = lambda x: x ** 3\n",
        "f(6)\n"
      ]
    },
    {
      "cell_type": "markdown",
      "metadata": {
        "id": "LbrvGs-EP3GK"
      },
      "source": [
        "## Map <br>\n",
        "<p>The map function allows you to iterate over an entire list while running a function on each item of the list. This is why the map function works well with lambda's, because it simplifies things and you write less lines of code.<br>The syntax for a map function is \"map(function to be used, list to be used)\"<br>However, you must be careful, as the map function returns a map object, not a list. To turn it into a list we use the list() type conversion.</p>"
      ]
    },
    {
      "cell_type": "markdown",
      "metadata": {
        "id": "agv3wys8P3GL"
      },
      "source": [
        "#### Syntax"
      ]
    },
    {
      "cell_type": "code",
      "execution_count": null,
      "metadata": {
        "colab": {
          "base_uri": "https://localhost:8080/"
        },
        "id": "8e7mZQ9bP3GL",
        "outputId": "ef0e8555-e84a-4897-dfc9-d12536ce52ef"
      },
      "outputs": [
        {
          "output_type": "stream",
          "name": "stdout",
          "text": [
            "[(16, 16), (11, 10), (20, 3), (9, 9), (15, 6)]\n"
          ]
        }
      ],
      "source": [
        "# map(function, iterable)\n",
        "# an iterable is something you can loop through; list, dict, tuple, set, or string, etc.\n",
        "# Normally,the usage of map happens with a pre-defined function, but we can use lambdas as well\n",
        "def squared(num, num2):\n",
        "  if num < 10 and num2 < 10:\n",
        "    return num ** 2, num ** 2\n",
        "  else:\n",
        "    return num, num2\n",
        "\n",
        "numbers = [4, 11, 20, 3, 15, 20]\n",
        "more_nums = [4, 10, 3, 2, 6]\n",
        "\n",
        "squared_nums_map = list(map(squared, numbers, more_nums))\n",
        "print(squared_nums_map)\n"
      ]
    },
    {
      "cell_type": "markdown",
      "metadata": {
        "id": "_dor34lJP3GL"
      },
      "source": [
        "#### Using Lambda's with Map"
      ]
    },
    {
      "cell_type": "code",
      "execution_count": null,
      "metadata": {
        "colab": {
          "base_uri": "https://localhost:8080/"
        },
        "id": "uuMJWEUMP3GM",
        "outputId": "df2ce27e-8cd0-4635-d6ba-c76b10dca6db"
      },
      "outputs": [
        {
          "output_type": "stream",
          "name": "stdout",
          "text": [
            "[(16, 16), (11, 10), (20, 3), (9, 4), (15, 6)]\n"
          ]
        }
      ],
      "source": [
        "# map(lamba x: do something,iterable)\n",
        "# using lambda in map usaully takes place on one line\n",
        "squared_nums_lamb = list(map(lambda x, y: (x ** 2, y **2) if x < 10 and y < 10 else (x,y), numbers, more_nums))\n",
        "print(squared_nums_lamb)"
      ]
    },
    {
      "cell_type": "markdown",
      "metadata": {
        "id": "48sbeVk2P3GM"
      },
      "source": [
        "#### In-Class Exercise #2 <br>\n",
        "<p>Use the map function to double each number and minus it by one in the list by using a lambda function</p>"
      ]
    },
    {
      "cell_type": "code",
      "execution_count": null,
      "metadata": {
        "colab": {
          "base_uri": "https://localhost:8080/"
        },
        "id": "ZYi2U_b-P3GM",
        "outputId": "8ab60393-5e0f-46d4-ec25-cfdb6cfc2883"
      },
      "outputs": [
        {
          "output_type": "stream",
          "name": "stdout",
          "text": [
            "[3, 9, 13, 17, 19, 7, 9, 131]\n"
          ]
        }
      ],
      "source": [
        "nums_list = [2, 5, 7, 9, 10, 4, 5, 66]\n",
        "calculation_operation = list(map(lambda x: ((x * 2 ) - 1), nums_list))\n",
        "\n",
        "print(calculation_operation)"
      ]
    },
    {
      "cell_type": "code",
      "source": [],
      "metadata": {
        "id": "QA_TpzH-suTy"
      },
      "execution_count": null,
      "outputs": []
    },
    {
      "cell_type": "markdown",
      "metadata": {
        "id": "4kHpptJOP3GM"
      },
      "source": [
        "## Filter() <br>\n",
        "<p>Filter's are similar to the map function, where you're able to pass a function argument and a list argument and filter out something from the list based on the conditions passed. Similar to the map function, it returns a filter object, so you need to type convert it to a list()</p>"
      ]
    },
    {
      "cell_type": "markdown",
      "metadata": {
        "id": "n-k6yxeWP3GM"
      },
      "source": [
        "#### Syntax"
      ]
    },
    {
      "cell_type": "code",
      "execution_count": null,
      "metadata": {
        "id": "3xa9BmXBP3GN",
        "colab": {
          "base_uri": "https://localhost:8080/"
        },
        "outputId": "bbd853dd-6d8a-4d16-f51b-5f02fa8b033a"
      },
      "outputs": [
        {
          "output_type": "stream",
          "name": "stdout",
          "text": [
            "['Andy', 'Angelica']\n"
          ]
        }
      ],
      "source": [
        "names = ['Bob', 'Andy', 'Mx', 'Evan', 'Angelica']\n",
        "\n",
        "def a_names(name):\n",
        "    if name[0].lower() == 'a':\n",
        "        return True\n",
        "    else:\n",
        "        return False\n",
        "\n",
        "new_names_list = list(filter(a_names, names))\n",
        "print(new_names_list)"
      ]
    },
    {
      "cell_type": "markdown",
      "metadata": {
        "id": "cjv2sJqGP3GN"
      },
      "source": [
        "#### Using Lambda's with Filter()"
      ]
    },
    {
      "cell_type": "code",
      "execution_count": null,
      "metadata": {
        "id": "TPdSnH-vP3GN",
        "colab": {
          "base_uri": "https://localhost:8080/"
        },
        "outputId": "172ac807-4371-450f-bbfd-5c4ccfee12cc"
      },
      "outputs": [
        {
          "output_type": "stream",
          "name": "stdout",
          "text": [
            "['Andy', 'Angelica']\n"
          ]
        }
      ],
      "source": [
        "new_names_lambs = list(filter(lambda name: True if name[0].lower() == 'a' else False, names))\n",
        "print(new_names_lambs)"
      ]
    },
    {
      "cell_type": "markdown",
      "metadata": {
        "id": "ZzMP0tyfP3GN"
      },
      "source": [
        "#### In-Class Exercise #3 <br>\n",
        "<p>Filter out all the numbers that are below the mean of the list.<br><b>Hint: Import the 'statistics' module</b></p>"
      ]
    },
    {
      "cell_type": "code",
      "execution_count": null,
      "metadata": {
        "id": "dEHpcxrxP3GN",
        "colab": {
          "base_uri": "https://localhost:8080/"
        },
        "outputId": "1490d23a-ac24-4a5e-af12-b2688910e23f"
      },
      "outputs": [
        {
          "output_type": "stream",
          "name": "stdout",
          "text": [
            "[2, 4.2, 1.6, 4.4]\n"
          ]
        }
      ],
      "source": [
        "from statistics import mean\n",
        "numbers = [2, 7, 4.2, 1.6, 9, 4.4, 4.9]\n",
        "\n",
        "def below_mean(num):\n",
        "    if num < mean(numbers):\n",
        "        return True\n",
        "    else:\n",
        "        return False\n",
        "\n",
        "below_mean_list = list(filter(below_mean, numbers))\n",
        "print(below_mean_list) \n",
        "\n",
        "\n",
        "    "
      ]
    },
    {
      "cell_type": "markdown",
      "metadata": {
        "id": "uGj2E59EP3GO"
      },
      "source": [
        "## Reduce() <br>\n",
        "<p>Be very careful when using this function, as of Python 3 it's been moved to the 'functools' library and no longer is a built-in function.<br>The creator of Python himself, says to just use a for loop instead.</p>"
      ]
    },
    {
      "cell_type": "markdown",
      "metadata": {
        "id": "wAP1vagEP3GO"
      },
      "source": [
        "#### Syntax"
      ]
    },
    {
      "cell_type": "code",
      "execution_count": null,
      "metadata": {
        "id": "9i--CbnTP3GP"
      },
      "outputs": [],
      "source": [
        "# JUST YOU USE A FOR LOOP"
      ]
    },
    {
      "cell_type": "markdown",
      "metadata": {
        "id": "-Cgh_PjcP3GP"
      },
      "source": [
        "#### Using Lambda's with Reduce()"
      ]
    },
    {
      "cell_type": "code",
      "execution_count": null,
      "metadata": {
        "id": "5zMoyW38P3GP"
      },
      "outputs": [],
      "source": [
        "# REMOVED FROM LECTURE"
      ]
    },
    {
      "cell_type": "markdown",
      "metadata": {
        "id": "hMDANvxFP3GP"
      },
      "source": [
        "#### In-Class Exercise #4 <br>\n",
        "<p>Use the reduce function to multiply the numbers in the list below together with a lambda function.</p>"
      ]
    },
    {
      "cell_type": "code",
      "execution_count": null,
      "metadata": {
        "id": "kwrBYBJWP3GQ"
      },
      "outputs": [],
      "source": [
        "# REMOVED FROM LECTURE"
      ]
    },
    {
      "cell_type": "markdown",
      "metadata": {
        "id": "I03MBG4WP3GQ"
      },
      "source": [
        "## Recursion <br>\n",
        "<p>Recursion means that a function is calling itself, so it contanstly executes until a base case is reached. It will then push the returning values back up the chain until the function is complete. A prime example of recursion is computing factorials... such that 5! (factorial) is 5*4*3*2*1 which equals 120.</p>"
      ]
    },
    {
      "cell_type": "markdown",
      "metadata": {
        "id": "0JyQmxfKP3GQ"
      },
      "source": [
        "#### Implementing a Base Case"
      ]
    },
    {
      "cell_type": "code",
      "execution_count": null,
      "metadata": {
        "id": "3x5A9GR-P3GR",
        "colab": {
          "base_uri": "https://localhost:8080/"
        },
        "outputId": "ca6a8766-71cc-4d86-dc03-864d303da6e5"
      },
      "outputs": [
        {
          "output_type": "stream",
          "name": "stdout",
          "text": [
            "addNums(5) = 5 + addNums(4)\n",
            "addNums(4) = 4 + addNums(3)\n",
            "addNums(3) = 3 + addNums(2)\n",
            "addNums(2) = 2 + addNums(1)\n",
            "addNums(1) = 1\n"
          ]
        },
        {
          "output_type": "execute_result",
          "data": {
            "text/plain": [
              "15"
            ]
          },
          "metadata": {},
          "execution_count": 8
        }
      ],
      "source": [
        "def addNums(num):\n",
        "    #Set a base case to stop recursion from going forever\n",
        "    if num <= 1:\n",
        "        print('addNums(1) = 1')\n",
        "        return num\n",
        "    else:\n",
        "        print(f'addNums({num}) = {num} + addNums({num - 1})')\n",
        "        return num + addNums(num - 1)  \n",
        "\n",
        "addNums(5)  "
      ]
    },
    {
      "cell_type": "markdown",
      "metadata": {
        "id": "0btl85Y0P3GR"
      },
      "source": [
        "#### Writing a Factorial Function"
      ]
    },
    {
      "cell_type": "code",
      "execution_count": null,
      "metadata": {
        "id": "oGcFbDyZP3GR",
        "colab": {
          "base_uri": "https://localhost:8080/"
        },
        "outputId": "07447d84-0e3d-455e-e702-09e340e73942"
      },
      "outputs": [
        {
          "output_type": "execute_result",
          "data": {
            "text/plain": [
              "120"
            ]
          },
          "metadata": {},
          "execution_count": 9
        }
      ],
      "source": [
        "def factorial(num):\n",
        "    if num <= 1:\n",
        "       return 1\n",
        "    else:\n",
        "       return num * factorial(num -1)\n",
        "\n",
        "factorial(5)"
      ]
    },
    {
      "cell_type": "markdown",
      "metadata": {
        "id": "v_fddg3bP3GR"
      },
      "source": [
        "#### In-Class Exercise #5 <br>\n",
        "<p>Write a recursive function that subtracts all numbers to the argument given.</p>"
      ]
    },
    {
      "cell_type": "code",
      "source": [
        "def subtract_num(x):\n",
        "    if x <= 1:\n",
        "        print('SubNums(1) = 1')\n",
        "        return x\n",
        "    else:\n",
        "        print(f'SubNums({x}) = {x} - SubNums({x - 1})')\n",
        "        return x - subtract_num(x-1) \n",
        "\n",
        "subtract_num(5)\n",
        "\n",
        "\n"
      ],
      "metadata": {
        "colab": {
          "base_uri": "https://localhost:8080/"
        },
        "id": "6geFt-fUW_EV",
        "outputId": "a25f4f4a-32d1-405e-aa13-0caaf9b09af2"
      },
      "execution_count": null,
      "outputs": [
        {
          "output_type": "stream",
          "name": "stdout",
          "text": [
            "SubNums(5) = 5 - SubNums(4)\n",
            "SubNums(4) = 4 - SubNums(3)\n",
            "SubNums(3) = 3 - SubNums(2)\n",
            "SubNums(2) = 2 - SubNums(1)\n",
            "SubNums(1) = 1\n"
          ]
        },
        {
          "output_type": "execute_result",
          "data": {
            "text/plain": [
              "3"
            ]
          },
          "metadata": {},
          "execution_count": 45
        }
      ]
    },
    {
      "cell_type": "code",
      "execution_count": null,
      "metadata": {
        "id": "Hyl6eQkeP3GS"
      },
      "outputs": [],
      "source": []
    },
    {
      "cell_type": "markdown",
      "metadata": {
        "id": "t-1dtRzvP3GS"
      },
      "source": [
        "## Generators <br>\n",
        "<p>Generators are a type of iterable, like lists or tuples. They do not allow indexing, but they can still be iterated through with for loops. They are created using functions and the yield statement.</p>"
      ]
    },
    {
      "cell_type": "markdown",
      "metadata": {
        "id": "0ovGPSWJP3GS"
      },
      "source": [
        "#### Yield Keyword <br>\n",
        "<p>The yield keyword denotes a generator, it doesn't return so it won't leave the function and reset all variables in the function scope, instead it yields the number back to the caller.</p>"
      ]
    },
    {
      "cell_type": "code",
      "execution_count": null,
      "metadata": {
        "id": "7ixjM0AiP3GS",
        "colab": {
          "base_uri": "https://localhost:8080/"
        },
        "outputId": "4b9e5092-f856-4ac3-bacd-695df6ec7f20"
      },
      "outputs": [
        {
          "output_type": "stream",
          "name": "stdout",
          "text": [
            "0\n",
            "2\n",
            "4\n",
            "6\n",
            "8\n",
            "10\n",
            "12\n",
            "14\n",
            "16\n",
            "18\n"
          ]
        }
      ],
      "source": [
        "def my_range(stop, start = 0, step = 2):\n",
        "   while start < stop:\n",
        "     yield start\n",
        "     start += step\n",
        "\n",
        "for i in my_range(20):\n",
        "  my_generator_value = i\n",
        "  print(my_generator_value)\n",
        "\n"
      ]
    },
    {
      "cell_type": "markdown",
      "metadata": {
        "id": "6XPxuSSOP3GS"
      },
      "source": [
        "#### Infinite Generator"
      ]
    },
    {
      "cell_type": "code",
      "execution_count": null,
      "metadata": {
        "id": "KBYuor-sP3GT"
      },
      "outputs": [],
      "source": [
        "# bad, never create infinite loops"
      ]
    },
    {
      "cell_type": "markdown",
      "metadata": {
        "id": "AxAaqr7HP3GT"
      },
      "source": [
        "#### In-Class Exercise #6 <br>\n",
        "<p>Create a generator that takes a number argument and yields that number squared, then prints each number squared until zero is reached.</p>"
      ]
    },
    {
      "cell_type": "code",
      "execution_count": null,
      "metadata": {
        "id": "8gsOIZR1P3GU",
        "colab": {
          "base_uri": "https://localhost:8080/"
        },
        "outputId": "e458c011-7c9a-42fd-cd81-e575e2366564"
      },
      "outputs": [
        {
          "output_type": "stream",
          "name": "stdout",
          "text": [
            "10: 100\n",
            "9: 81\n",
            "8: 64\n",
            "7: 49\n",
            "6: 36\n",
            "5: 25\n",
            "4: 16\n",
            "3: 9\n",
            "2: 4\n",
            "1: 1\n"
          ]
        }
      ],
      "source": [
        "def number_square(start, stop = 0, step = 1):\n",
        "   while stop < start:\n",
        "     yield start\n",
        "     start -= step\n",
        "\n",
        "for i in number_square(10):\n",
        "  my_generator_value = i**2\n",
        "  print(f'{i}: {my_generator_value}')"
      ]
    },
    {
      "cell_type": "markdown",
      "metadata": {
        "id": "mRpnILhOP3GU"
      },
      "source": [
        "# Exercises"
      ]
    },
    {
      "cell_type": "markdown",
      "metadata": {
        "id": "zr1W0Bs1P3GU"
      },
      "source": [
        "### Exercise #1 <br>\n",
        "<p>Filter out all of the empty strings from the list below</p>\n",
        "\n",
        "`Output: ['Argentina', 'San Diego', 'Boston', 'New York']`"
      ]
    },
    {
      "cell_type": "code",
      "execution_count": null,
      "metadata": {
        "id": "tJ5eDBUOP3GU",
        "colab": {
          "base_uri": "https://localhost:8080/"
        },
        "outputId": "3ae54942-7fe4-40f9-e43d-18820ff9e792"
      },
      "outputs": [
        {
          "output_type": "stream",
          "name": "stdout",
          "text": [
            "['Argentina', 'San Diego', 'Boston', 'New York']\n"
          ]
        }
      ],
      "source": [
        "places = [\" \",\"Argentina\", \" \", \"San Diego\",\"\",\"  \",\"\",\"Boston\",\"New York\"]\n",
        "\n",
        "final_places = list(filter(lambda place: True if place.isspace() != True and len(place) > 0 else False, places))\n",
        "print(final_places)"
      ]
    },
    {
      "cell_type": "markdown",
      "metadata": {
        "id": "KzaYfl_uP3GV"
      },
      "source": [
        "### Exercise #2 <br>\n",
        "<p>Write an anonymous function that sorts this list by the last name...<br><b>Hint: Use the \".sort()\" method and access the key\"</b></p>\n",
        "\n",
        "`Output: ['Victor aNisimov', 'Gary A.J. Bernstein', 'Joel Carter', 'Andrew P. Garfield', 'David hassELHOFF']`"
      ]
    },
    {
      "cell_type": "code",
      "execution_count": null,
      "metadata": {
        "id": "dofEQgveP3GV",
        "colab": {
          "base_uri": "https://localhost:8080/"
        },
        "outputId": "3b220555-225b-4104-fd71-8d0dd994e440"
      },
      "outputs": [
        {
          "output_type": "execute_result",
          "data": {
            "text/plain": [
              "['Victor aNisimov',\n",
              " 'Gary A.J. Bernstein',\n",
              " 'Joel Carter',\n",
              " 'Andrew P. Garfield',\n",
              " 'David hassELHOFF']"
            ]
          },
          "metadata": {},
          "execution_count": 15
        }
      ],
      "source": [
        "author = [\"Joel Carter\", \"Victor aNisimov\", \"Andrew P. Garfield\",\"David hassELHOFF\",\"Gary A.J. Bernstein\"]\n",
        "\n",
        "def LastNameSort(names):\n",
        "    names.sort(key = lambda x: x.split()[-1].lower())\n",
        "    return names \n",
        "name_organizer = LastNameSort(author)\n",
        "\n",
        "\n",
        "name_organizer \n",
        "\n",
        "\n"
      ]
    },
    {
      "cell_type": "markdown",
      "metadata": {
        "id": "KfvKJIoSP3GV"
      },
      "source": [
        "### Exercise #3 <br>\n",
        "<p>Convert the list below from Celsius to Farhenheit, using the map function with a lambda...</p>\n",
        "\n",
        "`Output: [('Nashua', 89.6), ('Boston', 53.6), ('Los Angelos', 111.2), ('Miami', 84.2)]\n",
        "`"
      ]
    },
    {
      "cell_type": "code",
      "execution_count": null,
      "metadata": {
        "id": "SBXm8r7XP3GW",
        "colab": {
          "base_uri": "https://localhost:8080/"
        },
        "outputId": "84215d4f-efbe-4060-ae21-e858c2435248"
      },
      "outputs": [
        {
          "output_type": "stream",
          "name": "stdout",
          "text": [
            "[('Nashua', 89.6), ('Boston', 53.6), ('Los Angelos', 111.2), ('Miami', 84.2)]\n"
          ]
        }
      ],
      "source": [
        "# F = (9/5)*C + 32\n",
        "places = [('Nashua',32),(\"Boston\",12),(\"Los Angelos\",44),(\"Miami\",29)]\n",
        "\n",
        "cities, temps = map(list, zip(*places))\n",
        "farenheit_conversion = list(map(lambda x, y: (x, y * 1.8 + 32), cities, temps))\n",
        "print(farenheit_conversion)\n",
        "\n",
        "\n",
        "\n"
      ]
    },
    {
      "cell_type": "markdown",
      "metadata": {
        "id": "bxvYvO1ZP3GW"
      },
      "source": [
        "### Exercise #4 <br>\n",
        "<p>Write a recursion function to perform the fibonacci sequence up to the number passed in.</p>\n",
        "\n",
        "`Output for fib(5) => \n",
        "Iteration 0: 1\n",
        "Iteration 1: 1\n",
        "Iteration 2: 2\n",
        "Iteration 3: 3\n",
        "Iteration 4: 5\n",
        "Iteration 5: 8`"
      ]
    },
    {
      "cell_type": "code",
      "execution_count": 24,
      "metadata": {
        "scrolled": true,
        "id": "XfkgmIBfP3GW",
        "colab": {
          "base_uri": "https://localhost:8080/"
        },
        "outputId": "dc2cc59c-3171-4603-d29c-0f7c152fac7a"
      },
      "outputs": [
        {
          "output_type": "stream",
          "name": "stdout",
          "text": [
            "Iteration 0: 1\n",
            "Iteration 1: 1\n",
            "Iteration 2: 2\n",
            "Iteration 3: 3\n",
            "Iteration 4: 5\n",
            "Iteration 5: 8\n"
          ]
        }
      ],
      "source": [
        "\n",
        "def fib(num):\n",
        "  def fib_recursion(num):\n",
        "    if num == 0:\n",
        "      return 1\n",
        "    elif num == 1:\n",
        "      return 1\n",
        "    else:\n",
        "      return fib_recursion(num - 1) + fib_recursion(num - 2)\n",
        "  for i in range(num +1):\n",
        "    print(f'Iteration {i}: {fib_recursion(i)}')\n",
        "\n",
        "\n",
        "fib(5)\n",
        "\n",
        "\n",
        "\n",
        "# I changed code to have function within function to print the correct output instead of just numeric value.\n",
        "# I thought the recursion part was correct though? I set base case with return values and then fib sequence \n",
        "# would just be f(n) = f(n-1) + f(n-2)? "
      ]
    }
  ],
  "metadata": {
    "kernelspec": {
      "display_name": "Python 3",
      "language": "python",
      "name": "python3"
    },
    "language_info": {
      "codemirror_mode": {
        "name": "ipython",
        "version": 3
      },
      "file_extension": ".py",
      "mimetype": "text/x-python",
      "name": "python",
      "nbconvert_exporter": "python",
      "pygments_lexer": "ipython3",
      "version": "3.7.6"
    },
    "colab": {
      "provenance": [],
      "collapsed_sections": [
        "-Cgh_PjcP3GP"
      ]
    }
  },
  "nbformat": 4,
  "nbformat_minor": 0
}